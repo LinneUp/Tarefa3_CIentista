{
 "cells": [
  {
   "cell_type": "code",
   "execution_count": 1,
   "id": "2feaba64",
   "metadata": {},
   "outputs": [],
   "source": [
    "import random"
   ]
  },
  {
   "cell_type": "markdown",
   "id": "be889e39",
   "metadata": {},
   "source": [
    "# Exercicio 1"
   ]
  },
  {
   "cell_type": "code",
   "execution_count": 49,
   "id": "1780542b",
   "metadata": {},
   "outputs": [],
   "source": [
    "def ParesLista(lista):\n",
    "    pares=[]\n",
    "    for x in lista:\n",
    "        if x %2 == 0:\n",
    "            pares.append(x)\n",
    "        else:\n",
    "            continue\n",
    "    return pares"
   ]
  },
  {
   "cell_type": "code",
   "execution_count": 50,
   "id": "5d53d258",
   "metadata": {},
   "outputs": [
    {
     "name": "stdout",
     "output_type": "stream",
     "text": [
      "Os Numeros Pares são :  [2, 4, 6, 8, 10, 12, 14, 16, 18]\n"
     ]
    }
   ],
   "source": [
    "listaPares = ParesLista([1,2,3,4,5,6,7,8,9,10,11,12,13,14,15,16,17,18])\n",
    "print ('Os Numeros Pares são : ',listaPares)"
   ]
  },
  {
   "cell_type": "code",
   "execution_count": null,
   "id": "ad062d6b",
   "metadata": {},
   "outputs": [],
   "source": []
  },
  {
   "cell_type": "markdown",
   "id": "2046cb30",
   "metadata": {},
   "source": [
    "# Exercicio 2"
   ]
  },
  {
   "cell_type": "code",
   "execution_count": 48,
   "id": "57afd94c",
   "metadata": {},
   "outputs": [],
   "source": [
    "def sorteio():\n",
    "    try:\n",
    "        nAleatorios = int(input(\"Digite quantos numeros aleatorios voce deseja: \"))\n",
    "        xx=1\n",
    "        while xx<=nAleatorios:\n",
    "            print(\"o numero aleatorio é\", random.randint(0,99999))\n",
    "            xx+=1\n",
    "    except:\n",
    "            print(\"Informe um numero de 0 a 99999 e não digite ao extenso\")   \n",
    "    return sorteio()\n",
    "        \n",
    "        "
   ]
  },
  {
   "cell_type": "code",
   "execution_count": null,
   "id": "616d28a7",
   "metadata": {},
   "outputs": [],
   "source": []
  },
  {
   "cell_type": "markdown",
   "id": "a944e9aa",
   "metadata": {},
   "source": [
    "# Exercicio 3"
   ]
  },
  {
   "cell_type": "code",
   "execution_count": 45,
   "id": "60c06387",
   "metadata": {},
   "outputs": [],
   "source": [
    "class Conta:\n",
    "    \n",
    "    def __init__ (self , nome, saldo):\n",
    "        \n",
    "        self.nome = nome\n",
    "        self.saldo = 0\n",
    "    \n",
    "        \n",
    "    def depositar(self):\n",
    "        self.saldo +=100\n",
    "        print(\"Voce depositou 100 Reais\")\n",
    "        \n",
    "    def saque (self):\n",
    "        saque = int(input(\"Digite o valor do saque: \"))\n",
    "        if saque >= self.saldo:\n",
    "            print(\"Saldo Insuficiente \")\n",
    "        else:\n",
    "            self.saldo -=saque\n",
    "            print(\"Voce sacou : \",saque)\n",
    "\n",
    "    \n",
    "            \n",
    "        "
   ]
  },
  {
   "cell_type": "code",
   "execution_count": 47,
   "id": "ee431505",
   "metadata": {},
   "outputs": [
    {
     "name": "stdout",
     "output_type": "stream",
     "text": [
      "Voce depositou 100 Reais\n",
      "Digite o valor do saque: 101\n",
      "Saldo Insuficiente \n"
     ]
    }
   ],
   "source": [
    "conta1 = Conta(\"Douglas\",\"0\")\n",
    "conta1.depositar()\n",
    "conta1.saque()\n",
    "\n",
    "\n"
   ]
  },
  {
   "cell_type": "code",
   "execution_count": null,
   "id": "c926f085",
   "metadata": {},
   "outputs": [],
   "source": []
  },
  {
   "cell_type": "code",
   "execution_count": null,
   "id": "24ba5c9d",
   "metadata": {},
   "outputs": [],
   "source": []
  }
 ],
 "metadata": {
  "kernelspec": {
   "display_name": "Python 3 (ipykernel)",
   "language": "python",
   "name": "python3"
  },
  "language_info": {
   "codemirror_mode": {
    "name": "ipython",
    "version": 3
   },
   "file_extension": ".py",
   "mimetype": "text/x-python",
   "name": "python",
   "nbconvert_exporter": "python",
   "pygments_lexer": "ipython3",
   "version": "3.9.12"
  }
 },
 "nbformat": 4,
 "nbformat_minor": 5
}
